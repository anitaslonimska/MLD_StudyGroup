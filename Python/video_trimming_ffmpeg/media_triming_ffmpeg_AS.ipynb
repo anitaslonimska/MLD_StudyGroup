{
 "cells": [
  {
   "cell_type": "markdown",
   "metadata": {},
   "source": [
    "## Using ffmpeg-python to trim videos and audio files\n",
    "\n",
    "In this module, we will trim videos and audio files using ffmpeg-python package.\n",
    "\n",
    "### Case senarios\n",
    "**Case 1**: Imagine that you have annotated a video for co-speech manual gestures and speech. Next, you want to extract a video for each annotated gesture. How do you do it?\n",
    "\n",
    "**Case 2**: You have 60 videos from an experiment. The video starts 3-5 minutes before the trials start, and you want to trim the part before the trials. How do you do it?\n",
    "<br>\n",
    "<br>\n",
    "\n",
    "Obviously, manually trimming the videos isn't the most efficient option. But I have good news for you: **You can use Python to automate this tedious task!!** <br>\n",
    "*Case 2 requires some manual coding of timestamps, and it might be faster to manually trim the videos. So, we'll focus on Case 1 in this module."
   ]
  },
  {
   "cell_type": "markdown",
   "metadata": {},
   "source": [
    "***\n",
    "\n",
    "## Playing with ffmpeg-python"
   ]
  },
  {
   "cell_type": "markdown",
   "metadata": {},
   "source": [
    "Let's play with ffmpeg-python package. Here, we will cut the first 60 seconds (media_start) of the video. <br>\n",
    "Before running the code, make sure to delete the output video file in the output folder if it already exists"
   ]
  },
  {
   "cell_type": "code",
   "execution_count": 2,
   "metadata": {},
   "outputs": [
    {
     "name": "stderr",
     "output_type": "stream",
     "text": [
      "ffmpeg version 5.1.2 Copyright (c) 2000-2022 the FFmpeg developers\n",
      "  built with Apple clang version 14.0.0 (clang-1400.0.29.202)\n",
      "  configuration: --prefix=/opt/homebrew/Cellar/ffmpeg/5.1.2_6 --enable-shared --enable-pthreads --enable-version3 --cc=clang --host-cflags= --host-ldflags= --enable-ffplay --enable-gnutls --enable-gpl --enable-libaom --enable-libaribb24 --enable-libbluray --enable-libdav1d --enable-libmp3lame --enable-libopus --enable-librav1e --enable-librist --enable-librubberband --enable-libsnappy --enable-libsrt --enable-libsvtav1 --enable-libtesseract --enable-libtheora --enable-libvidstab --enable-libvmaf --enable-libvorbis --enable-libvpx --enable-libwebp --enable-libx264 --enable-libx265 --enable-libxml2 --enable-libxvid --enable-lzma --enable-libfontconfig --enable-libfreetype --enable-frei0r --enable-libass --enable-libopencore-amrnb --enable-libopencore-amrwb --enable-libopenjpeg --enable-libspeex --enable-libsoxr --enable-libzmq --enable-libzimg --disable-libjack --disable-indev=jack --enable-videotoolbox --enable-neon\n",
      "  libavutil      57. 28.100 / 57. 28.100\n",
      "  libavcodec     59. 37.100 / 59. 37.100\n",
      "  libavformat    59. 27.100 / 59. 27.100\n",
      "  libavdevice    59.  7.100 / 59.  7.100\n",
      "  libavfilter     8. 44.100 /  8. 44.100\n",
      "  libswscale      6.  7.100 /  6.  7.100\n",
      "  libswresample   4.  7.100 /  4.  7.100\n",
      "  libpostproc    56.  6.100 / 56.  6.100\n",
      "Input #0, mov,mp4,m4a,3gp,3g2,mj2, from 'input/salma_hayek_video.mp4':\n",
      "  Metadata:\n",
      "    major_brand     : isom\n",
      "    minor_version   : 512\n",
      "    compatible_brands: isomiso2avc1mp41\n",
      "    encoder         : Lavf56.40.101\n",
      "  Duration: 00:05:46.72, start: 0.000000, bitrate: 970 kb/s\n",
      "  Stream #0:0[0x1](und): Video: h264 (High) (avc1 / 0x31637661), yuv420p(tv, bt709, progressive), 1920x1080 [SAR 1:1 DAR 16:9], 836 kb/s, 29.97 fps, 29.97 tbr, 90k tbn (default)\n",
      "    Metadata:\n",
      "      handler_name    : VideoHandler\n",
      "      vendor_id       : [0][0][0][0]\n",
      "  Stream #0:1[0x2](und): Audio: aac (LC) (mp4a / 0x6134706D), 44100 Hz, stereo, fltp, 125 kb/s (default)\n",
      "    Metadata:\n",
      "      handler_name    : SoundHandler\n",
      "      vendor_id       : [0][0][0][0]\n",
      "Output #0, mp4, to 'output/salma_hayek_video_trimmed.mp4':\n",
      "  Metadata:\n",
      "    major_brand     : isom\n",
      "    minor_version   : 512\n",
      "    compatible_brands: isomiso2avc1mp41\n",
      "    encoder         : Lavf59.27.100\n",
      "  Stream #0:0(und): Video: h264 (High) (avc1 / 0x31637661), yuv420p(tv, bt709, progressive), 1920x1080 [SAR 1:1 DAR 16:9], q=2-31, 836 kb/s, 29.97 fps, 29.97 tbr, 90k tbn (default)\n",
      "    Metadata:\n",
      "      handler_name    : VideoHandler\n",
      "      vendor_id       : [0][0][0][0]\n",
      "  Stream #0:1(und): Audio: aac (LC) (mp4a / 0x6134706D), 44100 Hz, stereo, fltp, 125 kb/s (default)\n",
      "    Metadata:\n",
      "      handler_name    : SoundHandler\n",
      "      vendor_id       : [0][0][0][0]\n",
      "Stream mapping:\n",
      "  Stream #0:0 -> #0:0 (copy)\n",
      "  Stream #0:1 -> #0:1 (copy)\n",
      "Press [q] to stop, [?] for help\n",
      "frame=10229 fps=0.0 q=-1.0 Lsize=   40152kB time=00:05:36.72 bitrate= 976.8kbits/s speed=8.62e+03x    \n",
      "video:34583kB audio:5234kB subtitle:0kB other streams:0kB global headers:0kB muxing overhead: 0.841251%\n"
     ]
    },
    {
     "data": {
      "text/plain": [
       "(None, None)"
      ]
     },
     "execution_count": 2,
     "metadata": {},
     "output_type": "execute_result"
    }
   ],
   "source": [
    "import ffmpeg\n",
    "\n",
<<<<<<< HEAD:Python/video_trimming_ffmpeg/media_triming_ffmpeg_AS.ipynb
    "media_start = 10 # seconds (time at which you want video to start)\n",
    "input_file_path = \"input/salma_hayek_video.mp4\"\n",
    "trimmed_video_file_path = \"output/salma_hayek_video_trimmed.mp4\"\n",
    "\n",
    "ffmpeg.input(input_file_path, ss=media_start).output(trimmed_video_file_path, c='copy').run() #this function runs the file form inoput and gives desired vidoe in output folder "
=======
    "media_start = 60 # seconds\n",
    "input_file_path = \"input/salma_hayek.mp4\"\n",
    "trimmed_video_file_path = \"output/salma_hayek_trimmed.mp4\"\n",
    "\n",
    "# syntax: ffmpeg.input(input_video_path, ss=start_time_in_seconds).output(output_video_path).run()\n",
    "# loglevel=\"quiet\" is used to hide the ffmpeg logs\n",
    "# c='copy' is used to copy the video stream without re-encoding\n",
    "ffmpeg.input(input_file_path, ss=media_start).output(trimmed_video_file_path, loglevel=\"quiet\", c='copy').run()\n",
    "print(\"Success! Trimmed video saved at: \", trimmed_video_file_path)"
>>>>>>> 4f013d95a61ccdb72f1534195ec119d7638d4741:Python/video_trimming_ffmpeg/media_triming_ffmpeg.ipynb
   ]
  },
  {
   "cell_type": "markdown",
   "metadata": {},
   "source": [
    "Let's check if the video is trimmed properly"
   ]
  },
  {
   "cell_type": "code",
   "execution_count": 3,
   "metadata": {},
   "outputs": [],
   "source": [
    "info_input = ffmpeg.probe(input_file_path)\n",
    "info_output = ffmpeg.probe(trimmed_video_file_path)\n",
    "\n",
    "#print duration of videos in seconds\n",
    "print(f\"Input video duration: {info_input['format']['duration']}\")\n",
    "print(f\"Output video duration: {info_output['format']['duration']}\")"
   ]
  },
  {
   "cell_type": "markdown",
   "metadata": {},
   "source": [
    "### <font color = 'orange'>Exercise</font>\n",
    "\n",
    "Trim the same video from 00:00:30 to 00:01:30 (so the video will be 60 seconds long)."
   ]
  },
  {
   "cell_type": "code",
   "execution_count": null,
   "metadata": {},
   "outputs": [],
   "source": [
    "trimmed_video_file_path = \"output/salma_hayek_exercise.mp4\"\n",
    "\n",
    "### write the rest of the code here ###\n"
   ]
  },
  {
   "cell_type": "markdown",
   "metadata": {},
   "source": [
    "<details><summary>Click here for tips</summary>\n",
    "\n",
    "In ffmpeg.input(), we used **ss** paramter for start time, and we can use **to** to specify until which point in the video we want to keep."
   ]
  },
  {
   "cell_type": "markdown",
   "metadata": {},
   "source": [
    "<details><summary>Click here for solution</summary>\n",
    "\n",
    "```python\n",
    "trimmed_video_file_path = \"output/salma_hayek_video_exercise.mp4\"\n",
    "\n",
    "media_start = 30 #seconds\n",
    "media_end = 90\n",
    "\n",
    "ffmpeg.input(input_file_path, ss=media_start, to=media_end).output(trimmed_video_file_path, loglevel=\"quiet\", c='copy').run()\n",
    "```"
   ]
  },
  {
   "cell_type": "markdown",
   "metadata": {},
   "source": [
    "***\n",
    "\n",
    "## Case 1: Extracting videos for each annotated gesture\n",
    "\n",
    "In this module, we will extract video clips for each annotated gesture. The output video will be named in the format \"videoname_gesturetype_index.mp4\" and will be stored in the output folder.\n",
    "\n",
    "Let's start with importing libraries and specifying folders."
   ]
  },
  {
   "cell_type": "code",
   "execution_count": 12,
   "metadata": {},
   "outputs": [],
   "source": [
    "### Import libraries\n",
    "import os\n",
    "import pandas as pd\n",
    "import ffmpeg # ffmpeg-python"
   ]
  },
  {
   "cell_type": "code",
<<<<<<< HEAD:Python/video_trimming_ffmpeg/media_triming_ffmpeg_AS.ipynb
   "execution_count": 4,
=======
   "execution_count": 19,
>>>>>>> 4f013d95a61ccdb72f1534195ec119d7638d4741:Python/video_trimming_ffmpeg/media_triming_ffmpeg.ipynb
   "metadata": {},
   "outputs": [],
   "source": [
    "### Folders\n",
<<<<<<< HEAD:Python/video_trimming_ffmpeg/media_triming_ffmpeg_AS.ipynb
    "media_folder = \"02_media\" #where the video is\n",
    "presentation_folder = \"03_presentation_logs\" #timestamps of trial info\n",
    "processed_folder = os.path.join(presentation_folder, \"02_processed\") #trial and round information\n",
    "trials_folder = os.path.join(processed_folder, \"02_trials\") #info on trials"
=======
    "video_folder = \"input\"\n",
    "annot_folder = os.path.join(video_folder, \"elan\")\n",
    "output_folder = \"output\""
>>>>>>> 4f013d95a61ccdb72f1534195ec119d7638d4741:Python/video_trimming_ffmpeg/media_triming_ffmpeg.ipynb
   ]
  },
  {
   "cell_type": "markdown",
   "metadata": {},
   "source": [
    "### Write \"extract_video\" function"
   ]
  },
  {
   "cell_type": "code",
   "execution_count": 33,
   "metadata": {},
   "outputs": [],
   "source": [
    "def extract_video(video, df_annot):\n",
    "    # initiate counter variables for each gesture type\n",
    "    iconic_counter = 0\n",
    "    metaphoric_counter = 0\n",
    "    deictic_counter = 0\n",
    "    beat_counter = 0\n",
    "    annot_index = \"\"\n",
    "\n",
    "    # get the video file name\n",
    "    video_file_name = os.path.basename(video)\n",
    "\n",
    "    # loop through the dataframe and get start and end time for each annotation (row)\n",
    "    for index, row in df_annot.iterrows():\n",
    "        # get start and end time\n",
    "        start_time = row['Begin Time - msec'] / 1000 # convert to seconds\n",
    "        end_time = row['End Time - msec'] / 1000 # convert to seconds\n",
    "        # get the annotation text foe gesture_type tier\n",
    "        annot_text = row['gesture_type']\n",
    "        \n",
    "        # check the annotation text and update the counter variable\n",
    "        if annot_text == \"iconic\":\n",
    "            iconic_counter += 1\n",
    "            annot_index = annot_text + \"_\" + str(iconic_counter)\n",
    "        elif annot_text == \"metaphoric\":\n",
    "            metaphoric_counter += 1\n",
    "            annot_index = annot_text + \"_\" +  str(metaphoric_counter)\n",
    "        elif annot_text == \"deictic\":\n",
    "            deictic_counter += 1\n",
    "            annot_index = annot_text + \"_\" +  str(deictic_counter)\n",
    "        elif annot_text == \"beat\":\n",
    "            beat_counter += 1\n",
    "            annot_index = annot_text + \"_\" +  str(beat_counter)\n",
    "\n",
    "        # create the output file name\n",
    "        output_file_name = video_file_name + \"_\" + annot_index + \".mp4\"\n",
    "        # create the output file path\n",
    "        output_file_path = os.path.join(output_folder, output_file_name)\n",
    "        \n",
    "        # check if the output file already exists\n",
    "        if not os.path.exists(output_file_path):\n",
    "            # trim the video\n",
    "            ffmpeg.input(video, ss=start_time, to=end_time).output(output_file_path, loglevel=\"quiet\", c='copy').run()\n",
    "\n",
    "    return iconic_counter, metaphoric_counter, deictic_counter, beat_counter, video_file_name\n"
   ]
  },
  {
   "cell_type": "markdown",
   "metadata": {},
   "source": [
    "### Loop through each elan annotation file and run the \"extract_video\" function\n",
    "*The name of video files and annotation files must be identical except for the extension."
   ]
  },
  {
   "cell_type": "code",
   "execution_count": null,
   "metadata": {},
   "outputs": [],
   "source": [
<<<<<<< HEAD:Python/video_trimming_ffmpeg/media_triming_ffmpeg_AS.ipynb
    "def trim_video(folder, processed_folder, media_start):\n",
    "    # Get the video files\n",
    "    video_files = [f for f in os.listdir(folder) if f.endswith('.mp4')] #a list of paths to all video files if it ends with mp4 \n",
    "    # Trim the video files\n",
    "    for video_file in video_files:\n",
    "        video_file_path = os.path.join(folder, video_file)\n",
    "        trimmed_video_file_path = os.path.join(processed_folder, video_file)\n",
=======
    "annot_files = [f for f in os.listdir(annot_folder) if f.endswith('.txt')]\n",
    "print(annot_files)\n",
>>>>>>> 4f013d95a61ccdb72f1534195ec119d7638d4741:Python/video_trimming_ffmpeg/media_triming_ffmpeg.ipynb
    "\n",
    "for annot_file in annot_files:\n",
    "    annot_file_path = os.path.join(annot_folder, annot_file)\n",
    "    video_file_path = os.path.join(video_folder, annot_file.replace(\".txt\", \".mp4\"))\n",
    "\n",
<<<<<<< HEAD:Python/video_trimming_ffmpeg/media_triming_ffmpeg_AS.ipynb
    "\n",
    "def trim_audio(folder, processed_folder, media_start):\n",
    "    # Get the audio files\n",
    "    audio_files = [f for f in os.listdir(folder) if f.endswith('.wav')]\n",
    "    # Trim the audio files\n",
    "    for audio_file in audio_files:\n",
    "        audio_file_path = os.path.join(folder, audio_file)\n",
    "        trimmed_audio_file_path = os.path.join(processed_folder, audio_file)\n",
    "\n",
    "        if not os.path.exists(trimmed_audio_file_path):\n",
    "            print(\"Trimming audio file: \" + audio_file)\n",
    "            ffmpeg.input(audio_file_path, ss=media_start).output(trimmed_audio_file_path, c='copy').run()"
   ]
  },
  {
   "cell_type": "code",
   "execution_count": null,
   "metadata": {},
   "outputs": [],
   "source": [
    "for file in os.listdir(trials_folder):\n",
    "    media_file_folder = os.path.join(media_folder, file.split(\"_\")[0]) # for eacg file in trial folder, take the media folder and split the trial name and use first part\n",
    "    processed_folder = os.path.join(media_file_folder, \"processed\")\n",
    "    \n",
    "    if file.endswith(\"_trials.csv\"):\n",
    "        task_start, media_start = calculate_media_trim(file)\n",
    "        \n",
    "        #if the media_start is less than 1 second, skip the file\n",
    "        if task_start < \"00:00:01.000\":\n",
    "            continue\n",
    "        \n",
    "        make_processed_folder(processed_folder)\n",
    "        trim_video(media_file_folder, processed_folder, media_start)\n",
    "        trim_audio(media_file_folder, processed_folder, media_start)"
=======
    "    df_annot = pd.read_csv(annot_file_path, sep=\"\\t\")\n",
    "    iconic, metaphoric, deictic, beat, video_file_name = extract_video(video_file_path, df_annot)\n",
    "    print(f\"Video file: {video_file_name} --> Exported videos for {iconic} iconic, {metaphoric} metaphoric, {deictic} deictic, and {beat} beat gestures.\")\n"
>>>>>>> 4f013d95a61ccdb72f1534195ec119d7638d4741:Python/video_trimming_ffmpeg/media_triming_ffmpeg.ipynb
   ]
  }
 ],
 "metadata": {
  "kernelspec": {
   "display_name": "sho",
   "language": "python",
   "name": "python3"
  },
  "language_info": {
   "codemirror_mode": {
    "name": "ipython",
    "version": 3
   },
   "file_extension": ".py",
   "mimetype": "text/x-python",
   "name": "python",
   "nbconvert_exporter": "python",
   "pygments_lexer": "ipython3",
   "version": "3.10.12"
  }
 },
 "nbformat": 4,
 "nbformat_minor": 2
}
