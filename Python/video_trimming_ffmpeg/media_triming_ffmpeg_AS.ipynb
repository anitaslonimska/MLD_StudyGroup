{
 "cells": [
  {
   "cell_type": "markdown",
   "metadata": {},
   "source": [
    "## Using ffmpeg-python to trim videos and audio files\n",
    "\n",
    "In this module, we will trim videos and audio files using ffmpeg-python package.\n",
    "\n",
    "### Case senario\n",
    "**Case 1**: Imagine that you have annotated a video for co-speech manual gestures and speech. Next, you want to extract a video for each annotated gesture. How do you do it?\n",
    "\n",
    "**Case 2**: You have 60 videos from an experiment. The video starts 3-5 minutes before the trials start, and you want to trim the part before the trials. How do you do it?\n",
    "<br>\n",
    "<br>\n",
    "\n",
    "Obviously, manually trimming the videos isn't the most efficient option. But I have good news for you: **You can use Python to automate this tedious task!!**"
   ]
  },
  {
   "cell_type": "markdown",
   "metadata": {},
   "source": [
    "### Playing with ffmpeg-python"
   ]
  },
  {
   "cell_type": "code",
   "execution_count": 2,
   "metadata": {},
   "outputs": [
    {
     "name": "stderr",
     "output_type": "stream",
     "text": [
      "ffmpeg version 5.1.2 Copyright (c) 2000-2022 the FFmpeg developers\n",
      "  built with Apple clang version 14.0.0 (clang-1400.0.29.202)\n",
      "  configuration: --prefix=/opt/homebrew/Cellar/ffmpeg/5.1.2_6 --enable-shared --enable-pthreads --enable-version3 --cc=clang --host-cflags= --host-ldflags= --enable-ffplay --enable-gnutls --enable-gpl --enable-libaom --enable-libaribb24 --enable-libbluray --enable-libdav1d --enable-libmp3lame --enable-libopus --enable-librav1e --enable-librist --enable-librubberband --enable-libsnappy --enable-libsrt --enable-libsvtav1 --enable-libtesseract --enable-libtheora --enable-libvidstab --enable-libvmaf --enable-libvorbis --enable-libvpx --enable-libwebp --enable-libx264 --enable-libx265 --enable-libxml2 --enable-libxvid --enable-lzma --enable-libfontconfig --enable-libfreetype --enable-frei0r --enable-libass --enable-libopencore-amrnb --enable-libopencore-amrwb --enable-libopenjpeg --enable-libspeex --enable-libsoxr --enable-libzmq --enable-libzimg --disable-libjack --disable-indev=jack --enable-videotoolbox --enable-neon\n",
      "  libavutil      57. 28.100 / 57. 28.100\n",
      "  libavcodec     59. 37.100 / 59. 37.100\n",
      "  libavformat    59. 27.100 / 59. 27.100\n",
      "  libavdevice    59.  7.100 / 59.  7.100\n",
      "  libavfilter     8. 44.100 /  8. 44.100\n",
      "  libswscale      6.  7.100 /  6.  7.100\n",
      "  libswresample   4.  7.100 /  4.  7.100\n",
      "  libpostproc    56.  6.100 / 56.  6.100\n",
      "Input #0, mov,mp4,m4a,3gp,3g2,mj2, from 'input/salma_hayek_video.mp4':\n",
      "  Metadata:\n",
      "    major_brand     : isom\n",
      "    minor_version   : 512\n",
      "    compatible_brands: isomiso2avc1mp41\n",
      "    encoder         : Lavf56.40.101\n",
      "  Duration: 00:05:46.72, start: 0.000000, bitrate: 970 kb/s\n",
      "  Stream #0:0[0x1](und): Video: h264 (High) (avc1 / 0x31637661), yuv420p(tv, bt709, progressive), 1920x1080 [SAR 1:1 DAR 16:9], 836 kb/s, 29.97 fps, 29.97 tbr, 90k tbn (default)\n",
      "    Metadata:\n",
      "      handler_name    : VideoHandler\n",
      "      vendor_id       : [0][0][0][0]\n",
      "  Stream #0:1[0x2](und): Audio: aac (LC) (mp4a / 0x6134706D), 44100 Hz, stereo, fltp, 125 kb/s (default)\n",
      "    Metadata:\n",
      "      handler_name    : SoundHandler\n",
      "      vendor_id       : [0][0][0][0]\n",
      "Output #0, mp4, to 'output/salma_hayek_video_trimmed.mp4':\n",
      "  Metadata:\n",
      "    major_brand     : isom\n",
      "    minor_version   : 512\n",
      "    compatible_brands: isomiso2avc1mp41\n",
      "    encoder         : Lavf59.27.100\n",
      "  Stream #0:0(und): Video: h264 (High) (avc1 / 0x31637661), yuv420p(tv, bt709, progressive), 1920x1080 [SAR 1:1 DAR 16:9], q=2-31, 836 kb/s, 29.97 fps, 29.97 tbr, 90k tbn (default)\n",
      "    Metadata:\n",
      "      handler_name    : VideoHandler\n",
      "      vendor_id       : [0][0][0][0]\n",
      "  Stream #0:1(und): Audio: aac (LC) (mp4a / 0x6134706D), 44100 Hz, stereo, fltp, 125 kb/s (default)\n",
      "    Metadata:\n",
      "      handler_name    : SoundHandler\n",
      "      vendor_id       : [0][0][0][0]\n",
      "Stream mapping:\n",
      "  Stream #0:0 -> #0:0 (copy)\n",
      "  Stream #0:1 -> #0:1 (copy)\n",
      "Press [q] to stop, [?] for help\n",
      "frame=10229 fps=0.0 q=-1.0 Lsize=   40152kB time=00:05:36.72 bitrate= 976.8kbits/s speed=8.62e+03x    \n",
      "video:34583kB audio:5234kB subtitle:0kB other streams:0kB global headers:0kB muxing overhead: 0.841251%\n"
     ]
    },
    {
     "data": {
      "text/plain": [
       "(None, None)"
      ]
     },
     "execution_count": 2,
     "metadata": {},
     "output_type": "execute_result"
    }
   ],
   "source": [
    "import ffmpeg\n",
    "\n",
    "media_start = 10 # seconds (time at which you want video to start)\n",
    "input_file_path = \"input/salma_hayek_video.mp4\"\n",
    "trimmed_video_file_path = \"output/salma_hayek_video_trimmed.mp4\"\n",
    "\n",
    "ffmpeg.input(input_file_path, ss=media_start).output(trimmed_video_file_path, c='copy').run() #this function runs the file form inoput and gives desired vidoe in output folder "
   ]
  },
  {
   "cell_type": "markdown",
   "metadata": {},
   "source": [
    "## Case 1"
   ]
  },
  {
   "cell_type": "code",
   "execution_count": 3,
   "metadata": {},
   "outputs": [],
   "source": [
    "### Import libraries\n",
    "import os\n",
    "import pandas as pd\n",
    "from datetime import datetime, timedelta\n",
    "import ffmpeg"
   ]
  },
  {
   "cell_type": "code",
   "execution_count": 4,
   "metadata": {},
   "outputs": [],
   "source": [
    "### Folders\n",
    "media_folder = \"02_media\" #where the video is\n",
    "presentation_folder = \"03_presentation_logs\" #timestamps of trial info\n",
    "processed_folder = os.path.join(presentation_folder, \"02_processed\") #trial and round information\n",
    "trials_folder = os.path.join(processed_folder, \"02_trials\") #info on trials"
   ]
  },
  {
   "cell_type": "markdown",
   "metadata": {},
   "source": [
    "### Functions"
   ]
  },
  {
   "cell_type": "code",
   "execution_count": null,
   "metadata": {},
   "outputs": [],
   "source": [
    "def trim_video(folder, processed_folder, media_start):\n",
    "    # Get the video files\n",
    "    video_files = [f for f in os.listdir(folder) if f.endswith('.mp4')] #a list of paths to all video files if it ends with mp4 \n",
    "    # Trim the video files\n",
    "    for video_file in video_files:\n",
    "        video_file_path = os.path.join(folder, video_file)\n",
    "        trimmed_video_file_path = os.path.join(processed_folder, video_file)\n",
    "\n",
    "        if not os.path.exists(trimmed_video_file_path):\n",
    "            print(\"Trimming video file: \" + video_file)\n",
    "            ffmpeg.input(video_file_path, ss=media_start).output(trimmed_video_file_path, c='copy').run()\n",
    "\n",
    "\n",
    "def trim_audio(folder, processed_folder, media_start):\n",
    "    # Get the audio files\n",
    "    audio_files = [f for f in os.listdir(folder) if f.endswith('.wav')]\n",
    "    # Trim the audio files\n",
    "    for audio_file in audio_files:\n",
    "        audio_file_path = os.path.join(folder, audio_file)\n",
    "        trimmed_audio_file_path = os.path.join(processed_folder, audio_file)\n",
    "\n",
    "        if not os.path.exists(trimmed_audio_file_path):\n",
    "            print(\"Trimming audio file: \" + audio_file)\n",
    "            ffmpeg.input(audio_file_path, ss=media_start).output(trimmed_audio_file_path, c='copy').run()"
   ]
  },
  {
   "cell_type": "code",
   "execution_count": null,
   "metadata": {},
   "outputs": [],
   "source": [
    "for file in os.listdir(trials_folder):\n",
    "    media_file_folder = os.path.join(media_folder, file.split(\"_\")[0]) # for eacg file in trial folder, take the media folder and split the trial name and use first part\n",
    "    processed_folder = os.path.join(media_file_folder, \"processed\")\n",
    "    \n",
    "    if file.endswith(\"_trials.csv\"):\n",
    "        task_start, media_start = calculate_media_trim(file)\n",
    "        \n",
    "        #if the media_start is less than 1 second, skip the file\n",
    "        if task_start < \"00:00:01.000\":\n",
    "            continue\n",
    "        \n",
    "        make_processed_folder(processed_folder)\n",
    "        trim_video(media_file_folder, processed_folder, media_start)\n",
    "        trim_audio(media_file_folder, processed_folder, media_start)"
   ]
  }
 ],
 "metadata": {
  "kernelspec": {
   "display_name": "sho",
   "language": "python",
   "name": "python3"
  },
  "language_info": {
   "codemirror_mode": {
    "name": "ipython",
    "version": 3
   },
   "file_extension": ".py",
   "mimetype": "text/x-python",
   "name": "python",
   "nbconvert_exporter": "python",
   "pygments_lexer": "ipython3",
   "version": "3.10.12"
  }
 },
 "nbformat": 4,
 "nbformat_minor": 2
}
